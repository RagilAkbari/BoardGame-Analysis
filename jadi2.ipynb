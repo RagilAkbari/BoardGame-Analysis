{
  "nbformat": 4,
  "nbformat_minor": 0,
  "metadata": {
    "colab": {
      "name": "Untitled13.ipynb",
      "provenance": [],
      "authorship_tag": "ABX9TyMkps3ZtoB0vk2sT8KT0I/D",
      "include_colab_link": true
    },
    "kernelspec": {
      "name": "python3",
      "display_name": "Python 3"
    }
  },
  "cells": [
    {
      "cell_type": "markdown",
      "metadata": {
        "id": "view-in-github",
        "colab_type": "text"
      },
      "source": [
        "<a href=\"https://colab.research.google.com/github/RagilAkbari/BoardGame-Analysis/blob/main/jadi2.ipynb\" target=\"_parent\"><img src=\"https://colab.research.google.com/assets/colab-badge.svg\" alt=\"Open In Colab\"/></a>"
      ]
    },
    {
      "cell_type": "code",
      "metadata": {
        "id": "IlayIc1-CVvw"
      },
      "source": [
        "import tensorflow\r\n",
        "from tensorflow import keras\r\n",
        "import numpy as np\r\n",
        "import pandas as pd\r\n",
        "from sklearn.model_selection import train_test_split\r\n",
        "from matplotlib import pyplot\r\n",
        "from keras.callbacks import EarlyStopping\r\n",
        "import time"
      ],
      "execution_count": 1,
      "outputs": []
    },
    {
      "cell_type": "code",
      "metadata": {
        "colab": {
          "resources": {
            "http://localhost:8080/nbextensions/google.colab/files.js": {
              "data": "Ly8gQ29weXJpZ2h0IDIwMTcgR29vZ2xlIExMQwovLwovLyBMaWNlbnNlZCB1bmRlciB0aGUgQXBhY2hlIExpY2Vuc2UsIFZlcnNpb24gMi4wICh0aGUgIkxpY2Vuc2UiKTsKLy8geW91IG1heSBub3QgdXNlIHRoaXMgZmlsZSBleGNlcHQgaW4gY29tcGxpYW5jZSB3aXRoIHRoZSBMaWNlbnNlLgovLyBZb3UgbWF5IG9idGFpbiBhIGNvcHkgb2YgdGhlIExpY2Vuc2UgYXQKLy8KLy8gICAgICBodHRwOi8vd3d3LmFwYWNoZS5vcmcvbGljZW5zZXMvTElDRU5TRS0yLjAKLy8KLy8gVW5sZXNzIHJlcXVpcmVkIGJ5IGFwcGxpY2FibGUgbGF3IG9yIGFncmVlZCB0byBpbiB3cml0aW5nLCBzb2Z0d2FyZQovLyBkaXN0cmlidXRlZCB1bmRlciB0aGUgTGljZW5zZSBpcyBkaXN0cmlidXRlZCBvbiBhbiAiQVMgSVMiIEJBU0lTLAovLyBXSVRIT1VUIFdBUlJBTlRJRVMgT1IgQ09ORElUSU9OUyBPRiBBTlkgS0lORCwgZWl0aGVyIGV4cHJlc3Mgb3IgaW1wbGllZC4KLy8gU2VlIHRoZSBMaWNlbnNlIGZvciB0aGUgc3BlY2lmaWMgbGFuZ3VhZ2UgZ292ZXJuaW5nIHBlcm1pc3Npb25zIGFuZAovLyBsaW1pdGF0aW9ucyB1bmRlciB0aGUgTGljZW5zZS4KCi8qKgogKiBAZmlsZW92ZXJ2aWV3IEhlbHBlcnMgZm9yIGdvb2dsZS5jb2xhYiBQeXRob24gbW9kdWxlLgogKi8KKGZ1bmN0aW9uKHNjb3BlKSB7CmZ1bmN0aW9uIHNwYW4odGV4dCwgc3R5bGVBdHRyaWJ1dGVzID0ge30pIHsKICBjb25zdCBlbGVtZW50ID0gZG9jdW1lbnQuY3JlYXRlRWxlbWVudCgnc3BhbicpOwogIGVsZW1lbnQudGV4dENvbnRlbnQgPSB0ZXh0OwogIGZvciAoY29uc3Qga2V5IG9mIE9iamVjdC5rZXlzKHN0eWxlQXR0cmlidXRlcykpIHsKICAgIGVsZW1lbnQuc3R5bGVba2V5XSA9IHN0eWxlQXR0cmlidXRlc1trZXldOwogIH0KICByZXR1cm4gZWxlbWVudDsKfQoKLy8gTWF4IG51bWJlciBvZiBieXRlcyB3aGljaCB3aWxsIGJlIHVwbG9hZGVkIGF0IGEgdGltZS4KY29uc3QgTUFYX1BBWUxPQURfU0laRSA9IDEwMCAqIDEwMjQ7CgpmdW5jdGlvbiBfdXBsb2FkRmlsZXMoaW5wdXRJZCwgb3V0cHV0SWQpIHsKICBjb25zdCBzdGVwcyA9IHVwbG9hZEZpbGVzU3RlcChpbnB1dElkLCBvdXRwdXRJZCk7CiAgY29uc3Qgb3V0cHV0RWxlbWVudCA9IGRvY3VtZW50LmdldEVsZW1lbnRCeUlkKG91dHB1dElkKTsKICAvLyBDYWNoZSBzdGVwcyBvbiB0aGUgb3V0cHV0RWxlbWVudCB0byBtYWtlIGl0IGF2YWlsYWJsZSBmb3IgdGhlIG5leHQgY2FsbAogIC8vIHRvIHVwbG9hZEZpbGVzQ29udGludWUgZnJvbSBQeXRob24uCiAgb3V0cHV0RWxlbWVudC5zdGVwcyA9IHN0ZXBzOwoKICByZXR1cm4gX3VwbG9hZEZpbGVzQ29udGludWUob3V0cHV0SWQpOwp9CgovLyBUaGlzIGlzIHJvdWdobHkgYW4gYXN5bmMgZ2VuZXJhdG9yIChub3Qgc3VwcG9ydGVkIGluIHRoZSBicm93c2VyIHlldCksCi8vIHdoZXJlIHRoZXJlIGFyZSBtdWx0aXBsZSBhc3luY2hyb25vdXMgc3RlcHMgYW5kIHRoZSBQeXRob24gc2lkZSBpcyBnb2luZwovLyB0byBwb2xsIGZvciBjb21wbGV0aW9uIG9mIGVhY2ggc3RlcC4KLy8gVGhpcyB1c2VzIGEgUHJvbWlzZSB0byBibG9jayB0aGUgcHl0aG9uIHNpZGUgb24gY29tcGxldGlvbiBvZiBlYWNoIHN0ZXAsCi8vIHRoZW4gcGFzc2VzIHRoZSByZXN1bHQgb2YgdGhlIHByZXZpb3VzIHN0ZXAgYXMgdGhlIGlucHV0IHRvIHRoZSBuZXh0IHN0ZXAuCmZ1bmN0aW9uIF91cGxvYWRGaWxlc0NvbnRpbnVlKG91dHB1dElkKSB7CiAgY29uc3Qgb3V0cHV0RWxlbWVudCA9IGRvY3VtZW50LmdldEVsZW1lbnRCeUlkKG91dHB1dElkKTsKICBjb25zdCBzdGVwcyA9IG91dHB1dEVsZW1lbnQuc3RlcHM7CgogIGNvbnN0IG5leHQgPSBzdGVwcy5uZXh0KG91dHB1dEVsZW1lbnQubGFzdFByb21pc2VWYWx1ZSk7CiAgcmV0dXJuIFByb21pc2UucmVzb2x2ZShuZXh0LnZhbHVlLnByb21pc2UpLnRoZW4oKHZhbHVlKSA9PiB7CiAgICAvLyBDYWNoZSB0aGUgbGFzdCBwcm9taXNlIHZhbHVlIHRvIG1ha2UgaXQgYXZhaWxhYmxlIHRvIHRoZSBuZXh0CiAgICAvLyBzdGVwIG9mIHRoZSBnZW5lcmF0b3IuCiAgICBvdXRwdXRFbGVtZW50Lmxhc3RQcm9taXNlVmFsdWUgPSB2YWx1ZTsKICAgIHJldHVybiBuZXh0LnZhbHVlLnJlc3BvbnNlOwogIH0pOwp9CgovKioKICogR2VuZXJhdG9yIGZ1bmN0aW9uIHdoaWNoIGlzIGNhbGxlZCBiZXR3ZWVuIGVhY2ggYXN5bmMgc3RlcCBvZiB0aGUgdXBsb2FkCiAqIHByb2Nlc3MuCiAqIEBwYXJhbSB7c3RyaW5nfSBpbnB1dElkIEVsZW1lbnQgSUQgb2YgdGhlIGlucHV0IGZpbGUgcGlja2VyIGVsZW1lbnQuCiAqIEBwYXJhbSB7c3RyaW5nfSBvdXRwdXRJZCBFbGVtZW50IElEIG9mIHRoZSBvdXRwdXQgZGlzcGxheS4KICogQHJldHVybiB7IUl0ZXJhYmxlPCFPYmplY3Q+fSBJdGVyYWJsZSBvZiBuZXh0IHN0ZXBzLgogKi8KZnVuY3Rpb24qIHVwbG9hZEZpbGVzU3RlcChpbnB1dElkLCBvdXRwdXRJZCkgewogIGNvbnN0IGlucHV0RWxlbWVudCA9IGRvY3VtZW50LmdldEVsZW1lbnRCeUlkKGlucHV0SWQpOwogIGlucHV0RWxlbWVudC5kaXNhYmxlZCA9IGZhbHNlOwoKICBjb25zdCBvdXRwdXRFbGVtZW50ID0gZG9jdW1lbnQuZ2V0RWxlbWVudEJ5SWQob3V0cHV0SWQpOwogIG91dHB1dEVsZW1lbnQuaW5uZXJIVE1MID0gJyc7CgogIGNvbnN0IHBpY2tlZFByb21pc2UgPSBuZXcgUHJvbWlzZSgocmVzb2x2ZSkgPT4gewogICAgaW5wdXRFbGVtZW50LmFkZEV2ZW50TGlzdGVuZXIoJ2NoYW5nZScsIChlKSA9PiB7CiAgICAgIHJlc29sdmUoZS50YXJnZXQuZmlsZXMpOwogICAgfSk7CiAgfSk7CgogIGNvbnN0IGNhbmNlbCA9IGRvY3VtZW50LmNyZWF0ZUVsZW1lbnQoJ2J1dHRvbicpOwogIGlucHV0RWxlbWVudC5wYXJlbnRFbGVtZW50LmFwcGVuZENoaWxkKGNhbmNlbCk7CiAgY2FuY2VsLnRleHRDb250ZW50ID0gJ0NhbmNlbCB1cGxvYWQnOwogIGNvbnN0IGNhbmNlbFByb21pc2UgPSBuZXcgUHJvbWlzZSgocmVzb2x2ZSkgPT4gewogICAgY2FuY2VsLm9uY2xpY2sgPSAoKSA9PiB7CiAgICAgIHJlc29sdmUobnVsbCk7CiAgICB9OwogIH0pOwoKICAvLyBXYWl0IGZvciB0aGUgdXNlciB0byBwaWNrIHRoZSBmaWxlcy4KICBjb25zdCBmaWxlcyA9IHlpZWxkIHsKICAgIHByb21pc2U6IFByb21pc2UucmFjZShbcGlja2VkUHJvbWlzZSwgY2FuY2VsUHJvbWlzZV0pLAogICAgcmVzcG9uc2U6IHsKICAgICAgYWN0aW9uOiAnc3RhcnRpbmcnLAogICAgfQogIH07CgogIGNhbmNlbC5yZW1vdmUoKTsKCiAgLy8gRGlzYWJsZSB0aGUgaW5wdXQgZWxlbWVudCBzaW5jZSBmdXJ0aGVyIHBpY2tzIGFyZSBub3QgYWxsb3dlZC4KICBpbnB1dEVsZW1lbnQuZGlzYWJsZWQgPSB0cnVlOwoKICBpZiAoIWZpbGVzKSB7CiAgICByZXR1cm4gewogICAgICByZXNwb25zZTogewogICAgICAgIGFjdGlvbjogJ2NvbXBsZXRlJywKICAgICAgfQogICAgfTsKICB9CgogIGZvciAoY29uc3QgZmlsZSBvZiBmaWxlcykgewogICAgY29uc3QgbGkgPSBkb2N1bWVudC5jcmVhdGVFbGVtZW50KCdsaScpOwogICAgbGkuYXBwZW5kKHNwYW4oZmlsZS5uYW1lLCB7Zm9udFdlaWdodDogJ2JvbGQnfSkpOwogICAgbGkuYXBwZW5kKHNwYW4oCiAgICAgICAgYCgke2ZpbGUudHlwZSB8fCAnbi9hJ30pIC0gJHtmaWxlLnNpemV9IGJ5dGVzLCBgICsKICAgICAgICBgbGFzdCBtb2RpZmllZDogJHsKICAgICAgICAgICAgZmlsZS5sYXN0TW9kaWZpZWREYXRlID8gZmlsZS5sYXN0TW9kaWZpZWREYXRlLnRvTG9jYWxlRGF0ZVN0cmluZygpIDoKICAgICAgICAgICAgICAgICAgICAgICAgICAgICAgICAgICAgJ24vYSd9IC0gYCkpOwogICAgY29uc3QgcGVyY2VudCA9IHNwYW4oJzAlIGRvbmUnKTsKICAgIGxpLmFwcGVuZENoaWxkKHBlcmNlbnQpOwoKICAgIG91dHB1dEVsZW1lbnQuYXBwZW5kQ2hpbGQobGkpOwoKICAgIGNvbnN0IGZpbGVEYXRhUHJvbWlzZSA9IG5ldyBQcm9taXNlKChyZXNvbHZlKSA9PiB7CiAgICAgIGNvbnN0IHJlYWRlciA9IG5ldyBGaWxlUmVhZGVyKCk7CiAgICAgIHJlYWRlci5vbmxvYWQgPSAoZSkgPT4gewogICAgICAgIHJlc29sdmUoZS50YXJnZXQucmVzdWx0KTsKICAgICAgfTsKICAgICAgcmVhZGVyLnJlYWRBc0FycmF5QnVmZmVyKGZpbGUpOwogICAgfSk7CiAgICAvLyBXYWl0IGZvciB0aGUgZGF0YSB0byBiZSByZWFkeS4KICAgIGxldCBmaWxlRGF0YSA9IHlpZWxkIHsKICAgICAgcHJvbWlzZTogZmlsZURhdGFQcm9taXNlLAogICAgICByZXNwb25zZTogewogICAgICAgIGFjdGlvbjogJ2NvbnRpbnVlJywKICAgICAgfQogICAgfTsKCiAgICAvLyBVc2UgYSBjaHVua2VkIHNlbmRpbmcgdG8gYXZvaWQgbWVzc2FnZSBzaXplIGxpbWl0cy4gU2VlIGIvNjIxMTU2NjAuCiAgICBsZXQgcG9zaXRpb24gPSAwOwogICAgd2hpbGUgKHBvc2l0aW9uIDwgZmlsZURhdGEuYnl0ZUxlbmd0aCkgewogICAgICBjb25zdCBsZW5ndGggPSBNYXRoLm1pbihmaWxlRGF0YS5ieXRlTGVuZ3RoIC0gcG9zaXRpb24sIE1BWF9QQVlMT0FEX1NJWkUpOwogICAgICBjb25zdCBjaHVuayA9IG5ldyBVaW50OEFycmF5KGZpbGVEYXRhLCBwb3NpdGlvbiwgbGVuZ3RoKTsKICAgICAgcG9zaXRpb24gKz0gbGVuZ3RoOwoKICAgICAgY29uc3QgYmFzZTY0ID0gYnRvYShTdHJpbmcuZnJvbUNoYXJDb2RlLmFwcGx5KG51bGwsIGNodW5rKSk7CiAgICAgIHlpZWxkIHsKICAgICAgICByZXNwb25zZTogewogICAgICAgICAgYWN0aW9uOiAnYXBwZW5kJywKICAgICAgICAgIGZpbGU6IGZpbGUubmFtZSwKICAgICAgICAgIGRhdGE6IGJhc2U2NCwKICAgICAgICB9LAogICAgICB9OwogICAgICBwZXJjZW50LnRleHRDb250ZW50ID0KICAgICAgICAgIGAke01hdGgucm91bmQoKHBvc2l0aW9uIC8gZmlsZURhdGEuYnl0ZUxlbmd0aCkgKiAxMDApfSUgZG9uZWA7CiAgICB9CiAgfQoKICAvLyBBbGwgZG9uZS4KICB5aWVsZCB7CiAgICByZXNwb25zZTogewogICAgICBhY3Rpb246ICdjb21wbGV0ZScsCiAgICB9CiAgfTsKfQoKc2NvcGUuZ29vZ2xlID0gc2NvcGUuZ29vZ2xlIHx8IHt9OwpzY29wZS5nb29nbGUuY29sYWIgPSBzY29wZS5nb29nbGUuY29sYWIgfHwge307CnNjb3BlLmdvb2dsZS5jb2xhYi5fZmlsZXMgPSB7CiAgX3VwbG9hZEZpbGVzLAogIF91cGxvYWRGaWxlc0NvbnRpbnVlLAp9Owp9KShzZWxmKTsK",
              "ok": true,
              "headers": [
                [
                  "content-type",
                  "application/javascript"
                ]
              ],
              "status": 200,
              "status_text": ""
            }
          },
          "base_uri": "https://localhost:8080/",
          "height": 73
        },
        "id": "tE5AWItBCfmJ",
        "outputId": "e1292168-7b13-4a81-f948-4e84d01bda8b"
      },
      "source": [
        "from google.colab import files #upload data\r\n",
        "uploaded = files.upload()"
      ],
      "execution_count": 2,
      "outputs": [
        {
          "output_type": "display_data",
          "data": {
            "text/html": [
              "\n",
              "     <input type=\"file\" id=\"files-ecd8fe82-959a-4ac7-a3b5-2510a5b015ee\" name=\"files[]\" multiple disabled\n",
              "        style=\"border:none\" />\n",
              "     <output id=\"result-ecd8fe82-959a-4ac7-a3b5-2510a5b015ee\">\n",
              "      Upload widget is only available when the cell has been executed in the\n",
              "      current browser session. Please rerun this cell to enable.\n",
              "      </output>\n",
              "      <script src=\"/nbextensions/google.colab/files.js\"></script> "
            ],
            "text/plain": [
              "<IPython.core.display.HTML object>"
            ]
          },
          "metadata": {
            "tags": []
          }
        },
        {
          "output_type": "stream",
          "text": [
            "Saving bgg_db2.csv to bgg_db2.csv\n"
          ],
          "name": "stdout"
        }
      ]
    },
    {
      "cell_type": "code",
      "metadata": {
        "id": "QRsHMNf4DPQX"
      },
      "source": [
        "import io\r\n",
        "data = pd.read_csv('bgg_db2.csv')"
      ],
      "execution_count": 3,
      "outputs": []
    },
    {
      "cell_type": "code",
      "metadata": {
        "colab": {
          "base_uri": "https://localhost:8080/",
          "height": 198
        },
        "id": "siOqFswFDRzj",
        "outputId": "6a88f544-b786-478c-8403-9e287c6dadfd"
      },
      "source": [
        "data.head()"
      ],
      "execution_count": 4,
      "outputs": [
        {
          "output_type": "execute_result",
          "data": {
            "text/html": [
              "<div>\n",
              "<style scoped>\n",
              "    .dataframe tbody tr th:only-of-type {\n",
              "        vertical-align: middle;\n",
              "    }\n",
              "\n",
              "    .dataframe tbody tr th {\n",
              "        vertical-align: top;\n",
              "    }\n",
              "\n",
              "    .dataframe thead th {\n",
              "        text-align: right;\n",
              "    }\n",
              "</style>\n",
              "<table border=\"1\" class=\"dataframe\">\n",
              "  <thead>\n",
              "    <tr style=\"text-align: right;\">\n",
              "      <th></th>\n",
              "      <th>game_id</th>\n",
              "      <th>names</th>\n",
              "      <th>category</th>\n",
              "      <th>min_players</th>\n",
              "      <th>max_players</th>\n",
              "      <th>min_time</th>\n",
              "      <th>max_time</th>\n",
              "      <th>avg_time</th>\n",
              "      <th>year</th>\n",
              "      <th>avg_rating</th>\n",
              "      <th>geek_rating</th>\n",
              "      <th>num_votes</th>\n",
              "      <th>rank</th>\n",
              "      <th>owned</th>\n",
              "    </tr>\n",
              "  </thead>\n",
              "  <tbody>\n",
              "    <tr>\n",
              "      <th>0</th>\n",
              "      <td>1</td>\n",
              "      <td>Die Macher</td>\n",
              "      <td>Economic, Negotiation, Political</td>\n",
              "      <td>3</td>\n",
              "      <td>5</td>\n",
              "      <td>240</td>\n",
              "      <td>240</td>\n",
              "      <td>240</td>\n",
              "      <td>1986</td>\n",
              "      <td>7.62437</td>\n",
              "      <td>7.15383</td>\n",
              "      <td>5001</td>\n",
              "      <td>255.0</td>\n",
              "      <td>6615</td>\n",
              "    </tr>\n",
              "    <tr>\n",
              "      <th>1</th>\n",
              "      <td>2</td>\n",
              "      <td>Dragonmaster</td>\n",
              "      <td>Card Game, Fantasy</td>\n",
              "      <td>3</td>\n",
              "      <td>4</td>\n",
              "      <td>30</td>\n",
              "      <td>30</td>\n",
              "      <td>30</td>\n",
              "      <td>1981</td>\n",
              "      <td>6.61497</td>\n",
              "      <td>5.80921</td>\n",
              "      <td>540</td>\n",
              "      <td>3444.0</td>\n",
              "      <td>1224</td>\n",
              "    </tr>\n",
              "    <tr>\n",
              "      <th>2</th>\n",
              "      <td>3</td>\n",
              "      <td>Samurai</td>\n",
              "      <td>Abstract Strategy, Medieval</td>\n",
              "      <td>2</td>\n",
              "      <td>4</td>\n",
              "      <td>30</td>\n",
              "      <td>60</td>\n",
              "      <td>60</td>\n",
              "      <td>1998</td>\n",
              "      <td>7.44113</td>\n",
              "      <td>7.24689</td>\n",
              "      <td>14155</td>\n",
              "      <td>199.0</td>\n",
              "      <td>14500</td>\n",
              "    </tr>\n",
              "    <tr>\n",
              "      <th>3</th>\n",
              "      <td>4</td>\n",
              "      <td>Tal der Könige</td>\n",
              "      <td>Ancient</td>\n",
              "      <td>2</td>\n",
              "      <td>4</td>\n",
              "      <td>60</td>\n",
              "      <td>60</td>\n",
              "      <td>60</td>\n",
              "      <td>1992</td>\n",
              "      <td>6.60429</td>\n",
              "      <td>5.70264</td>\n",
              "      <td>331</td>\n",
              "      <td>4530.0</td>\n",
              "      <td>607</td>\n",
              "    </tr>\n",
              "    <tr>\n",
              "      <th>4</th>\n",
              "      <td>5</td>\n",
              "      <td>Acquire</td>\n",
              "      <td>Economic</td>\n",
              "      <td>2</td>\n",
              "      <td>6</td>\n",
              "      <td>90</td>\n",
              "      <td>90</td>\n",
              "      <td>90</td>\n",
              "      <td>1964</td>\n",
              "      <td>7.34541</td>\n",
              "      <td>7.16840</td>\n",
              "      <td>17672</td>\n",
              "      <td>247.0</td>\n",
              "      <td>22352</td>\n",
              "    </tr>\n",
              "  </tbody>\n",
              "</table>\n",
              "</div>"
            ],
            "text/plain": [
              "   game_id           names  ...    rank  owned\n",
              "0        1      Die Macher  ...   255.0   6615\n",
              "1        2    Dragonmaster  ...  3444.0   1224\n",
              "2        3         Samurai  ...   199.0  14500\n",
              "3        4  Tal der Könige  ...  4530.0    607\n",
              "4        5         Acquire  ...   247.0  22352\n",
              "\n",
              "[5 rows x 14 columns]"
            ]
          },
          "metadata": {
            "tags": []
          },
          "execution_count": 4
        }
      ]
    },
    {
      "cell_type": "markdown",
      "metadata": {
        "id": "4GdS_vEVDWwc"
      },
      "source": [
        "Menghilangkan Data yang \"duplicate\", null / missing value"
      ]
    },
    {
      "cell_type": "code",
      "metadata": {
        "colab": {
          "base_uri": "https://localhost:8080/"
        },
        "id": "d8yj-KsQDTzQ",
        "outputId": "bdb13704-1e7a-4ea8-aa5f-c21c0e83de24"
      },
      "source": [
        "data.count()\r\n"
      ],
      "execution_count": 5,
      "outputs": [
        {
          "output_type": "execute_result",
          "data": {
            "text/plain": [
              "game_id        116455\n",
              "names          116455\n",
              "category       114405\n",
              "min_players    116455\n",
              "max_players    116455\n",
              "min_time       116455\n",
              "max_time       116455\n",
              "avg_time       116455\n",
              "year           116455\n",
              "avg_rating     116455\n",
              "geek_rating    116455\n",
              "num_votes      116455\n",
              "rank            18789\n",
              "owned          116455\n",
              "dtype: int64"
            ]
          },
          "metadata": {
            "tags": []
          },
          "execution_count": 5
        }
      ]
    },
    {
      "cell_type": "code",
      "metadata": {
        "colab": {
          "base_uri": "https://localhost:8080/"
        },
        "id": "_U-igTk2DhnR",
        "outputId": "722ba05b-182b-4a28-8460-ac8f4fb74c92"
      },
      "source": [
        "data = data.drop_duplicates() #drop duplikasi\r\n",
        "\r\n",
        "data.count()"
      ],
      "execution_count": 6,
      "outputs": [
        {
          "output_type": "execute_result",
          "data": {
            "text/plain": [
              "game_id        116455\n",
              "names          116455\n",
              "category       114405\n",
              "min_players    116455\n",
              "max_players    116455\n",
              "min_time       116455\n",
              "max_time       116455\n",
              "avg_time       116455\n",
              "year           116455\n",
              "avg_rating     116455\n",
              "geek_rating    116455\n",
              "num_votes      116455\n",
              "rank            18789\n",
              "owned          116455\n",
              "dtype: int64"
            ]
          },
          "metadata": {
            "tags": []
          },
          "execution_count": 6
        }
      ]
    },
    {
      "cell_type": "code",
      "metadata": {
        "colab": {
          "base_uri": "https://localhost:8080/"
        },
        "id": "Zv1LjTWLDmX9",
        "outputId": "502ac541-3360-4907-cd20-a6a6715a7ac0"
      },
      "source": [
        "data = data.dropna() #drop nilai Null\r\n",
        "\r\n",
        "data.count()"
      ],
      "execution_count": 7,
      "outputs": [
        {
          "output_type": "execute_result",
          "data": {
            "text/plain": [
              "game_id        18580\n",
              "names          18580\n",
              "category       18580\n",
              "min_players    18580\n",
              "max_players    18580\n",
              "min_time       18580\n",
              "max_time       18580\n",
              "avg_time       18580\n",
              "year           18580\n",
              "avg_rating     18580\n",
              "geek_rating    18580\n",
              "num_votes      18580\n",
              "rank           18580\n",
              "owned          18580\n",
              "dtype: int64"
            ]
          },
          "metadata": {
            "tags": []
          },
          "execution_count": 7
        }
      ]
    },
    {
      "cell_type": "code",
      "metadata": {
        "colab": {
          "base_uri": "https://localhost:8080/",
          "height": 198
        },
        "id": "1bXOHygVDqJJ",
        "outputId": "6d3acde9-e067-49a5-f3f0-4037a93f7418"
      },
      "source": [
        "#nilai rating dari 0-10, rating < 5 == 0, sisa 1. Sebagai pembatas rating tinggi dan rendah\r\n",
        "data['avg_rating'] = (data['avg_rating'] >= 5).astype(int)\r\n",
        "data.head()"
      ],
      "execution_count": 8,
      "outputs": [
        {
          "output_type": "execute_result",
          "data": {
            "text/html": [
              "<div>\n",
              "<style scoped>\n",
              "    .dataframe tbody tr th:only-of-type {\n",
              "        vertical-align: middle;\n",
              "    }\n",
              "\n",
              "    .dataframe tbody tr th {\n",
              "        vertical-align: top;\n",
              "    }\n",
              "\n",
              "    .dataframe thead th {\n",
              "        text-align: right;\n",
              "    }\n",
              "</style>\n",
              "<table border=\"1\" class=\"dataframe\">\n",
              "  <thead>\n",
              "    <tr style=\"text-align: right;\">\n",
              "      <th></th>\n",
              "      <th>game_id</th>\n",
              "      <th>names</th>\n",
              "      <th>category</th>\n",
              "      <th>min_players</th>\n",
              "      <th>max_players</th>\n",
              "      <th>min_time</th>\n",
              "      <th>max_time</th>\n",
              "      <th>avg_time</th>\n",
              "      <th>year</th>\n",
              "      <th>avg_rating</th>\n",
              "      <th>geek_rating</th>\n",
              "      <th>num_votes</th>\n",
              "      <th>rank</th>\n",
              "      <th>owned</th>\n",
              "    </tr>\n",
              "  </thead>\n",
              "  <tbody>\n",
              "    <tr>\n",
              "      <th>0</th>\n",
              "      <td>1</td>\n",
              "      <td>Die Macher</td>\n",
              "      <td>Economic, Negotiation, Political</td>\n",
              "      <td>3</td>\n",
              "      <td>5</td>\n",
              "      <td>240</td>\n",
              "      <td>240</td>\n",
              "      <td>240</td>\n",
              "      <td>1986</td>\n",
              "      <td>1</td>\n",
              "      <td>7.15383</td>\n",
              "      <td>5001</td>\n",
              "      <td>255.0</td>\n",
              "      <td>6615</td>\n",
              "    </tr>\n",
              "    <tr>\n",
              "      <th>1</th>\n",
              "      <td>2</td>\n",
              "      <td>Dragonmaster</td>\n",
              "      <td>Card Game, Fantasy</td>\n",
              "      <td>3</td>\n",
              "      <td>4</td>\n",
              "      <td>30</td>\n",
              "      <td>30</td>\n",
              "      <td>30</td>\n",
              "      <td>1981</td>\n",
              "      <td>1</td>\n",
              "      <td>5.80921</td>\n",
              "      <td>540</td>\n",
              "      <td>3444.0</td>\n",
              "      <td>1224</td>\n",
              "    </tr>\n",
              "    <tr>\n",
              "      <th>2</th>\n",
              "      <td>3</td>\n",
              "      <td>Samurai</td>\n",
              "      <td>Abstract Strategy, Medieval</td>\n",
              "      <td>2</td>\n",
              "      <td>4</td>\n",
              "      <td>30</td>\n",
              "      <td>60</td>\n",
              "      <td>60</td>\n",
              "      <td>1998</td>\n",
              "      <td>1</td>\n",
              "      <td>7.24689</td>\n",
              "      <td>14155</td>\n",
              "      <td>199.0</td>\n",
              "      <td>14500</td>\n",
              "    </tr>\n",
              "    <tr>\n",
              "      <th>3</th>\n",
              "      <td>4</td>\n",
              "      <td>Tal der Könige</td>\n",
              "      <td>Ancient</td>\n",
              "      <td>2</td>\n",
              "      <td>4</td>\n",
              "      <td>60</td>\n",
              "      <td>60</td>\n",
              "      <td>60</td>\n",
              "      <td>1992</td>\n",
              "      <td>1</td>\n",
              "      <td>5.70264</td>\n",
              "      <td>331</td>\n",
              "      <td>4530.0</td>\n",
              "      <td>607</td>\n",
              "    </tr>\n",
              "    <tr>\n",
              "      <th>4</th>\n",
              "      <td>5</td>\n",
              "      <td>Acquire</td>\n",
              "      <td>Economic</td>\n",
              "      <td>2</td>\n",
              "      <td>6</td>\n",
              "      <td>90</td>\n",
              "      <td>90</td>\n",
              "      <td>90</td>\n",
              "      <td>1964</td>\n",
              "      <td>1</td>\n",
              "      <td>7.16840</td>\n",
              "      <td>17672</td>\n",
              "      <td>247.0</td>\n",
              "      <td>22352</td>\n",
              "    </tr>\n",
              "  </tbody>\n",
              "</table>\n",
              "</div>"
            ],
            "text/plain": [
              "   game_id           names  ...    rank  owned\n",
              "0        1      Die Macher  ...   255.0   6615\n",
              "1        2    Dragonmaster  ...  3444.0   1224\n",
              "2        3         Samurai  ...   199.0  14500\n",
              "3        4  Tal der Könige  ...  4530.0    607\n",
              "4        5         Acquire  ...   247.0  22352\n",
              "\n",
              "[5 rows x 14 columns]"
            ]
          },
          "metadata": {
            "tags": []
          },
          "execution_count": 8
        }
      ]
    },
    {
      "cell_type": "code",
      "metadata": {
        "id": "g6H0-_tlDste"
      },
      "source": [
        "feature_cols = ['min_players','max_players','year','geek_rating','num_votes','owned'] #Fitur2 yg digunakan\r\n",
        "X = data[feature_cols]\r\n",
        "y = data.avg_rating #target"
      ],
      "execution_count": 10,
      "outputs": []
    },
    {
      "cell_type": "code",
      "metadata": {
        "id": "nQSxjS5lDvPh"
      },
      "source": [
        "X_train, X_test, y_train, y_test = train_test_split(X, y, test_size=0.3, shuffle=False)"
      ],
      "execution_count": 11,
      "outputs": []
    },
    {
      "cell_type": "code",
      "metadata": {
        "colab": {
          "base_uri": "https://localhost:8080/",
          "height": 407
        },
        "id": "FSvMyqkXDwjX",
        "outputId": "d5c6effb-d6da-4561-c8fa-2772deeb9b75"
      },
      "source": [
        "X_train #cek data train"
      ],
      "execution_count": 12,
      "outputs": [
        {
          "output_type": "execute_result",
          "data": {
            "text/html": [
              "<div>\n",
              "<style scoped>\n",
              "    .dataframe tbody tr th:only-of-type {\n",
              "        vertical-align: middle;\n",
              "    }\n",
              "\n",
              "    .dataframe tbody tr th {\n",
              "        vertical-align: top;\n",
              "    }\n",
              "\n",
              "    .dataframe thead th {\n",
              "        text-align: right;\n",
              "    }\n",
              "</style>\n",
              "<table border=\"1\" class=\"dataframe\">\n",
              "  <thead>\n",
              "    <tr style=\"text-align: right;\">\n",
              "      <th></th>\n",
              "      <th>min_players</th>\n",
              "      <th>max_players</th>\n",
              "      <th>year</th>\n",
              "      <th>geek_rating</th>\n",
              "      <th>num_votes</th>\n",
              "      <th>owned</th>\n",
              "    </tr>\n",
              "  </thead>\n",
              "  <tbody>\n",
              "    <tr>\n",
              "      <th>0</th>\n",
              "      <td>3</td>\n",
              "      <td>5</td>\n",
              "      <td>1986</td>\n",
              "      <td>7.15383</td>\n",
              "      <td>5001</td>\n",
              "      <td>6615</td>\n",
              "    </tr>\n",
              "    <tr>\n",
              "      <th>1</th>\n",
              "      <td>3</td>\n",
              "      <td>4</td>\n",
              "      <td>1981</td>\n",
              "      <td>5.80921</td>\n",
              "      <td>540</td>\n",
              "      <td>1224</td>\n",
              "    </tr>\n",
              "    <tr>\n",
              "      <th>2</th>\n",
              "      <td>2</td>\n",
              "      <td>4</td>\n",
              "      <td>1998</td>\n",
              "      <td>7.24689</td>\n",
              "      <td>14155</td>\n",
              "      <td>14500</td>\n",
              "    </tr>\n",
              "    <tr>\n",
              "      <th>3</th>\n",
              "      <td>2</td>\n",
              "      <td>4</td>\n",
              "      <td>1992</td>\n",
              "      <td>5.70264</td>\n",
              "      <td>331</td>\n",
              "      <td>607</td>\n",
              "    </tr>\n",
              "    <tr>\n",
              "      <th>4</th>\n",
              "      <td>2</td>\n",
              "      <td>6</td>\n",
              "      <td>1964</td>\n",
              "      <td>7.16840</td>\n",
              "      <td>17672</td>\n",
              "      <td>22352</td>\n",
              "    </tr>\n",
              "    <tr>\n",
              "      <th>...</th>\n",
              "      <td>...</td>\n",
              "      <td>...</td>\n",
              "      <td>...</td>\n",
              "      <td>...</td>\n",
              "      <td>...</td>\n",
              "      <td>...</td>\n",
              "    </tr>\n",
              "    <tr>\n",
              "      <th>71076</th>\n",
              "      <td>1</td>\n",
              "      <td>4</td>\n",
              "      <td>2014</td>\n",
              "      <td>5.52734</td>\n",
              "      <td>66</td>\n",
              "      <td>198</td>\n",
              "    </tr>\n",
              "    <tr>\n",
              "      <th>71079</th>\n",
              "      <td>1</td>\n",
              "      <td>1</td>\n",
              "      <td>2014</td>\n",
              "      <td>5.59018</td>\n",
              "      <td>154</td>\n",
              "      <td>400</td>\n",
              "    </tr>\n",
              "    <tr>\n",
              "      <th>71081</th>\n",
              "      <td>3</td>\n",
              "      <td>16</td>\n",
              "      <td>2014</td>\n",
              "      <td>5.51934</td>\n",
              "      <td>34</td>\n",
              "      <td>82</td>\n",
              "    </tr>\n",
              "    <tr>\n",
              "      <th>71084</th>\n",
              "      <td>2</td>\n",
              "      <td>2</td>\n",
              "      <td>2015</td>\n",
              "      <td>5.66756</td>\n",
              "      <td>206</td>\n",
              "      <td>613</td>\n",
              "    </tr>\n",
              "    <tr>\n",
              "      <th>71086</th>\n",
              "      <td>2</td>\n",
              "      <td>3</td>\n",
              "      <td>2015</td>\n",
              "      <td>5.73798</td>\n",
              "      <td>280</td>\n",
              "      <td>1405</td>\n",
              "    </tr>\n",
              "  </tbody>\n",
              "</table>\n",
              "<p>13006 rows × 6 columns</p>\n",
              "</div>"
            ],
            "text/plain": [
              "       min_players  max_players  year  geek_rating  num_votes  owned\n",
              "0                3            5  1986      7.15383       5001   6615\n",
              "1                3            4  1981      5.80921        540   1224\n",
              "2                2            4  1998      7.24689      14155  14500\n",
              "3                2            4  1992      5.70264        331    607\n",
              "4                2            6  1964      7.16840      17672  22352\n",
              "...            ...          ...   ...          ...        ...    ...\n",
              "71076            1            4  2014      5.52734         66    198\n",
              "71079            1            1  2014      5.59018        154    400\n",
              "71081            3           16  2014      5.51934         34     82\n",
              "71084            2            2  2015      5.66756        206    613\n",
              "71086            2            3  2015      5.73798        280   1405\n",
              "\n",
              "[13006 rows x 6 columns]"
            ]
          },
          "metadata": {
            "tags": []
          },
          "execution_count": 12
        }
      ]
    },
    {
      "cell_type": "code",
      "metadata": {
        "colab": {
          "base_uri": "https://localhost:8080/",
          "height": 407
        },
        "id": "Vg3fP8hxDx7k",
        "outputId": "b8a6705f-cd38-4a30-ddc7-57d37c89e600"
      },
      "source": [
        "\r\n",
        "X_test #cek data test"
      ],
      "execution_count": 13,
      "outputs": [
        {
          "output_type": "execute_result",
          "data": {
            "text/html": [
              "<div>\n",
              "<style scoped>\n",
              "    .dataframe tbody tr th:only-of-type {\n",
              "        vertical-align: middle;\n",
              "    }\n",
              "\n",
              "    .dataframe tbody tr th {\n",
              "        vertical-align: top;\n",
              "    }\n",
              "\n",
              "    .dataframe thead th {\n",
              "        text-align: right;\n",
              "    }\n",
              "</style>\n",
              "<table border=\"1\" class=\"dataframe\">\n",
              "  <thead>\n",
              "    <tr style=\"text-align: right;\">\n",
              "      <th></th>\n",
              "      <th>min_players</th>\n",
              "      <th>max_players</th>\n",
              "      <th>year</th>\n",
              "      <th>geek_rating</th>\n",
              "      <th>num_votes</th>\n",
              "      <th>owned</th>\n",
              "    </tr>\n",
              "  </thead>\n",
              "  <tbody>\n",
              "    <tr>\n",
              "      <th>71092</th>\n",
              "      <td>3</td>\n",
              "      <td>10</td>\n",
              "      <td>2014</td>\n",
              "      <td>5.58744</td>\n",
              "      <td>277</td>\n",
              "      <td>602</td>\n",
              "    </tr>\n",
              "    <tr>\n",
              "      <th>71094</th>\n",
              "      <td>2</td>\n",
              "      <td>5</td>\n",
              "      <td>2014</td>\n",
              "      <td>5.64748</td>\n",
              "      <td>378</td>\n",
              "      <td>1327</td>\n",
              "    </tr>\n",
              "    <tr>\n",
              "      <th>71095</th>\n",
              "      <td>2</td>\n",
              "      <td>2</td>\n",
              "      <td>2016</td>\n",
              "      <td>5.58204</td>\n",
              "      <td>89</td>\n",
              "      <td>236</td>\n",
              "    </tr>\n",
              "    <tr>\n",
              "      <th>71096</th>\n",
              "      <td>2</td>\n",
              "      <td>2</td>\n",
              "      <td>2014</td>\n",
              "      <td>5.60465</td>\n",
              "      <td>99</td>\n",
              "      <td>349</td>\n",
              "    </tr>\n",
              "    <tr>\n",
              "      <th>71098</th>\n",
              "      <td>2</td>\n",
              "      <td>2</td>\n",
              "      <td>2015</td>\n",
              "      <td>6.26338</td>\n",
              "      <td>650</td>\n",
              "      <td>2085</td>\n",
              "    </tr>\n",
              "    <tr>\n",
              "      <th>...</th>\n",
              "      <td>...</td>\n",
              "      <td>...</td>\n",
              "      <td>...</td>\n",
              "      <td>...</td>\n",
              "      <td>...</td>\n",
              "      <td>...</td>\n",
              "    </tr>\n",
              "    <tr>\n",
              "      <th>113339</th>\n",
              "      <td>2</td>\n",
              "      <td>6</td>\n",
              "      <td>2020</td>\n",
              "      <td>5.60093</td>\n",
              "      <td>109</td>\n",
              "      <td>185</td>\n",
              "    </tr>\n",
              "    <tr>\n",
              "      <th>114664</th>\n",
              "      <td>2</td>\n",
              "      <td>5</td>\n",
              "      <td>2020</td>\n",
              "      <td>5.57559</td>\n",
              "      <td>47</td>\n",
              "      <td>187</td>\n",
              "    </tr>\n",
              "    <tr>\n",
              "      <th>114802</th>\n",
              "      <td>1</td>\n",
              "      <td>4</td>\n",
              "      <td>2020</td>\n",
              "      <td>5.53111</td>\n",
              "      <td>33</td>\n",
              "      <td>27</td>\n",
              "    </tr>\n",
              "    <tr>\n",
              "      <th>114865</th>\n",
              "      <td>3</td>\n",
              "      <td>7</td>\n",
              "      <td>2020</td>\n",
              "      <td>5.71095</td>\n",
              "      <td>123</td>\n",
              "      <td>434</td>\n",
              "    </tr>\n",
              "    <tr>\n",
              "      <th>115788</th>\n",
              "      <td>1</td>\n",
              "      <td>99</td>\n",
              "      <td>2020</td>\n",
              "      <td>5.64651</td>\n",
              "      <td>131</td>\n",
              "      <td>248</td>\n",
              "    </tr>\n",
              "  </tbody>\n",
              "</table>\n",
              "<p>5574 rows × 6 columns</p>\n",
              "</div>"
            ],
            "text/plain": [
              "        min_players  max_players  year  geek_rating  num_votes  owned\n",
              "71092             3           10  2014      5.58744        277    602\n",
              "71094             2            5  2014      5.64748        378   1327\n",
              "71095             2            2  2016      5.58204         89    236\n",
              "71096             2            2  2014      5.60465         99    349\n",
              "71098             2            2  2015      6.26338        650   2085\n",
              "...             ...          ...   ...          ...        ...    ...\n",
              "113339            2            6  2020      5.60093        109    185\n",
              "114664            2            5  2020      5.57559         47    187\n",
              "114802            1            4  2020      5.53111         33     27\n",
              "114865            3            7  2020      5.71095        123    434\n",
              "115788            1           99  2020      5.64651        131    248\n",
              "\n",
              "[5574 rows x 6 columns]"
            ]
          },
          "metadata": {
            "tags": []
          },
          "execution_count": 13
        }
      ]
    },
    {
      "cell_type": "code",
      "metadata": {
        "colab": {
          "base_uri": "https://localhost:8080/"
        },
        "id": "vOqvrHkgD0AH",
        "outputId": "6d2306f0-bdc1-48ab-e745-cc5eb6e9fb68"
      },
      "source": [
        "\r\n",
        "#model Sequential dengan 3 layer\r\n",
        "model=keras.models.Sequential([\r\n",
        "    keras.layers.Dense(64, input_dim = X_train.shape[1], activation='tanh'),  \r\n",
        "    keras.layers.Dropout(0.3),\r\n",
        "    \r\n",
        "    keras.layers.Dense(units=32, activation='tanh'), \r\n",
        "    keras.layers.Dropout(0.2),\r\n",
        "    \r\n",
        "    keras.layers.Dense(units=1, activation=\"sigmoid\"),\r\n",
        "],name=\"Initial_model\",)\r\n",
        "model.summary()"
      ],
      "execution_count": 14,
      "outputs": [
        {
          "output_type": "stream",
          "text": [
            "Model: \"Initial_model\"\n",
            "_________________________________________________________________\n",
            "Layer (type)                 Output Shape              Param #   \n",
            "=================================================================\n",
            "dense (Dense)                (None, 64)                448       \n",
            "_________________________________________________________________\n",
            "dropout (Dropout)            (None, 64)                0         \n",
            "_________________________________________________________________\n",
            "dense_1 (Dense)              (None, 32)                2080      \n",
            "_________________________________________________________________\n",
            "dropout_1 (Dropout)          (None, 32)                0         \n",
            "_________________________________________________________________\n",
            "dense_2 (Dense)              (None, 1)                 33        \n",
            "=================================================================\n",
            "Total params: 2,561\n",
            "Trainable params: 2,561\n",
            "Non-trainable params: 0\n",
            "_________________________________________________________________\n"
          ],
          "name": "stdout"
        }
      ]
    },
    {
      "cell_type": "code",
      "metadata": {
        "id": "Z_EyIAWLD3ER"
      },
      "source": [
        "\r\n",
        "#up learning rate paling kecil\r\n",
        "learning_rate = 0.01\r\n",
        "optimizer = keras.optimizers.Adam(lr=learning_rate)"
      ],
      "execution_count": 15,
      "outputs": []
    },
    {
      "cell_type": "code",
      "metadata": {
        "id": "o2w4dxxoD5xY"
      },
      "source": [
        "model.compile(optimizer=optimizer,\r\n",
        "            loss='binary_crossentropy', metrics=['accuracy'])"
      ],
      "execution_count": 16,
      "outputs": []
    },
    {
      "cell_type": "code",
      "metadata": {
        "id": "vNl-9M6kD7Xj"
      },
      "source": [
        "#fungsi class untuk menghentikan training ketika epoch tidak ada perkembangan\r\n",
        "early_stopping_monitor = EarlyStopping( \r\n",
        "    monitor='val_loss',\r\n",
        "    min_delta=0,\r\n",
        "    patience=100,\r\n",
        "    verbose=0,\r\n",
        "    mode='auto',\r\n",
        "    baseline=None,\r\n",
        "    restore_best_weights=True\r\n",
        ")"
      ],
      "execution_count": 17,
      "outputs": []
    },
    {
      "cell_type": "code",
      "metadata": {
        "colab": {
          "base_uri": "https://localhost:8080/"
        },
        "id": "eWAeHg7OD9my",
        "outputId": "93984b01-28c6-4dd4-c93a-1da989ff0327"
      },
      "source": [
        "#proses training\r\n",
        "start = time.clock() \r\n",
        "history = model.fit(X_train, y_train, epochs=1000, batch_size=512, validation_data=(X_test, y_test), verbose=1, callbacks=[early_stopping_monitor])\r\n",
        "end = time.clock()"
      ],
      "execution_count": 18,
      "outputs": [
        {
          "output_type": "stream",
          "text": [
            "Epoch 1/1000\n",
            "26/26 [==============================] - 1s 20ms/step - loss: 0.4430 - accuracy: 0.8170 - val_loss: 0.1155 - val_accuracy: 0.9824\n",
            "Epoch 2/1000\n",
            "26/26 [==============================] - 0s 4ms/step - loss: 0.2990 - accuracy: 0.9132 - val_loss: 0.1286 - val_accuracy: 0.9824\n",
            "Epoch 3/1000\n",
            "26/26 [==============================] - 0s 4ms/step - loss: 0.3076 - accuracy: 0.9075 - val_loss: 0.1266 - val_accuracy: 0.9824\n",
            "Epoch 4/1000\n",
            "26/26 [==============================] - 0s 4ms/step - loss: 0.3103 - accuracy: 0.9051 - val_loss: 0.1231 - val_accuracy: 0.9824\n",
            "Epoch 5/1000\n",
            "26/26 [==============================] - 0s 4ms/step - loss: 0.2897 - accuracy: 0.9133 - val_loss: 0.1271 - val_accuracy: 0.9824\n",
            "Epoch 6/1000\n",
            "26/26 [==============================] - 0s 4ms/step - loss: 0.2986 - accuracy: 0.9079 - val_loss: 0.1314 - val_accuracy: 0.9824\n",
            "Epoch 7/1000\n",
            "26/26 [==============================] - 0s 5ms/step - loss: 0.2922 - accuracy: 0.9102 - val_loss: 0.1233 - val_accuracy: 0.9824\n",
            "Epoch 8/1000\n",
            "26/26 [==============================] - 0s 4ms/step - loss: 0.2873 - accuracy: 0.9136 - val_loss: 0.1251 - val_accuracy: 0.9824\n",
            "Epoch 9/1000\n",
            "26/26 [==============================] - 0s 5ms/step - loss: 0.2851 - accuracy: 0.9136 - val_loss: 0.1294 - val_accuracy: 0.9824\n",
            "Epoch 10/1000\n",
            "26/26 [==============================] - 0s 5ms/step - loss: 0.2895 - accuracy: 0.9134 - val_loss: 0.1247 - val_accuracy: 0.9824\n",
            "Epoch 11/1000\n",
            "26/26 [==============================] - 0s 4ms/step - loss: 0.2928 - accuracy: 0.9111 - val_loss: 0.1262 - val_accuracy: 0.9824\n",
            "Epoch 12/1000\n",
            "26/26 [==============================] - 0s 4ms/step - loss: 0.2874 - accuracy: 0.9115 - val_loss: 0.1348 - val_accuracy: 0.9824\n",
            "Epoch 13/1000\n",
            "26/26 [==============================] - 0s 5ms/step - loss: 0.2869 - accuracy: 0.9137 - val_loss: 0.1331 - val_accuracy: 0.9824\n",
            "Epoch 14/1000\n",
            "26/26 [==============================] - 0s 4ms/step - loss: 0.2867 - accuracy: 0.9138 - val_loss: 0.1302 - val_accuracy: 0.9824\n",
            "Epoch 15/1000\n",
            "26/26 [==============================] - 0s 4ms/step - loss: 0.3027 - accuracy: 0.9055 - val_loss: 0.1247 - val_accuracy: 0.9824\n",
            "Epoch 16/1000\n",
            "26/26 [==============================] - 0s 5ms/step - loss: 0.2978 - accuracy: 0.9075 - val_loss: 0.1318 - val_accuracy: 0.9824\n",
            "Epoch 17/1000\n",
            "26/26 [==============================] - 0s 9ms/step - loss: 0.2869 - accuracy: 0.9114 - val_loss: 0.1263 - val_accuracy: 0.9824\n",
            "Epoch 18/1000\n",
            "26/26 [==============================] - 0s 4ms/step - loss: 0.2868 - accuracy: 0.9120 - val_loss: 0.1263 - val_accuracy: 0.9824\n",
            "Epoch 19/1000\n",
            "26/26 [==============================] - 0s 5ms/step - loss: 0.2960 - accuracy: 0.9080 - val_loss: 0.1182 - val_accuracy: 0.9824\n",
            "Epoch 20/1000\n",
            "26/26 [==============================] - 0s 4ms/step - loss: 0.2845 - accuracy: 0.9137 - val_loss: 0.1389 - val_accuracy: 0.9824\n",
            "Epoch 21/1000\n",
            "26/26 [==============================] - 0s 4ms/step - loss: 0.2923 - accuracy: 0.9100 - val_loss: 0.1340 - val_accuracy: 0.9824\n",
            "Epoch 22/1000\n",
            "26/26 [==============================] - 0s 4ms/step - loss: 0.2825 - accuracy: 0.9150 - val_loss: 0.1369 - val_accuracy: 0.9824\n",
            "Epoch 23/1000\n",
            "26/26 [==============================] - 0s 4ms/step - loss: 0.2912 - accuracy: 0.9115 - val_loss: 0.1170 - val_accuracy: 0.9824\n",
            "Epoch 24/1000\n",
            "26/26 [==============================] - 0s 4ms/step - loss: 0.2898 - accuracy: 0.9106 - val_loss: 0.1311 - val_accuracy: 0.9824\n",
            "Epoch 25/1000\n",
            "26/26 [==============================] - 0s 4ms/step - loss: 0.2959 - accuracy: 0.9090 - val_loss: 0.1204 - val_accuracy: 0.9824\n",
            "Epoch 26/1000\n",
            "26/26 [==============================] - 0s 5ms/step - loss: 0.2862 - accuracy: 0.9136 - val_loss: 0.1352 - val_accuracy: 0.9824\n",
            "Epoch 27/1000\n",
            "26/26 [==============================] - 0s 5ms/step - loss: 0.2795 - accuracy: 0.9162 - val_loss: 0.1400 - val_accuracy: 0.9824\n",
            "Epoch 28/1000\n",
            "26/26 [==============================] - 0s 5ms/step - loss: 0.2979 - accuracy: 0.9073 - val_loss: 0.1194 - val_accuracy: 0.9824\n",
            "Epoch 29/1000\n",
            "26/26 [==============================] - 0s 4ms/step - loss: 0.2904 - accuracy: 0.9108 - val_loss: 0.1358 - val_accuracy: 0.9824\n",
            "Epoch 30/1000\n",
            "26/26 [==============================] - 0s 4ms/step - loss: 0.2971 - accuracy: 0.9074 - val_loss: 0.1291 - val_accuracy: 0.9824\n",
            "Epoch 31/1000\n",
            "26/26 [==============================] - 0s 4ms/step - loss: 0.2941 - accuracy: 0.9088 - val_loss: 0.1435 - val_accuracy: 0.9824\n",
            "Epoch 32/1000\n",
            "26/26 [==============================] - 0s 4ms/step - loss: 0.3050 - accuracy: 0.9043 - val_loss: 0.1213 - val_accuracy: 0.9824\n",
            "Epoch 33/1000\n",
            "26/26 [==============================] - 0s 5ms/step - loss: 0.2978 - accuracy: 0.9079 - val_loss: 0.1187 - val_accuracy: 0.9824\n",
            "Epoch 34/1000\n",
            "26/26 [==============================] - 0s 4ms/step - loss: 0.2997 - accuracy: 0.9087 - val_loss: 0.1433 - val_accuracy: 0.9824\n",
            "Epoch 35/1000\n",
            "26/26 [==============================] - 0s 4ms/step - loss: 0.3006 - accuracy: 0.9064 - val_loss: 0.1187 - val_accuracy: 0.9824\n",
            "Epoch 36/1000\n",
            "26/26 [==============================] - 0s 4ms/step - loss: 0.3005 - accuracy: 0.9072 - val_loss: 0.1275 - val_accuracy: 0.9824\n",
            "Epoch 37/1000\n",
            "26/26 [==============================] - 0s 4ms/step - loss: 0.3017 - accuracy: 0.9072 - val_loss: 0.1268 - val_accuracy: 0.9824\n",
            "Epoch 38/1000\n",
            "26/26 [==============================] - 0s 4ms/step - loss: 0.3025 - accuracy: 0.9057 - val_loss: 0.1197 - val_accuracy: 0.9824\n",
            "Epoch 39/1000\n",
            "26/26 [==============================] - 0s 4ms/step - loss: 0.2918 - accuracy: 0.9108 - val_loss: 0.1256 - val_accuracy: 0.9824\n",
            "Epoch 40/1000\n",
            "26/26 [==============================] - 0s 4ms/step - loss: 0.2929 - accuracy: 0.9113 - val_loss: 0.1358 - val_accuracy: 0.9824\n",
            "Epoch 41/1000\n",
            "26/26 [==============================] - 0s 4ms/step - loss: 0.2860 - accuracy: 0.9141 - val_loss: 0.1395 - val_accuracy: 0.9824\n",
            "Epoch 42/1000\n",
            "26/26 [==============================] - 0s 4ms/step - loss: 0.2886 - accuracy: 0.9115 - val_loss: 0.1441 - val_accuracy: 0.9824\n",
            "Epoch 43/1000\n",
            "26/26 [==============================] - 0s 4ms/step - loss: 0.2976 - accuracy: 0.9128 - val_loss: 0.1273 - val_accuracy: 0.9824\n",
            "Epoch 44/1000\n",
            "26/26 [==============================] - 0s 4ms/step - loss: 0.3016 - accuracy: 0.9098 - val_loss: 0.1271 - val_accuracy: 0.9824\n",
            "Epoch 45/1000\n",
            "26/26 [==============================] - 0s 4ms/step - loss: 0.3054 - accuracy: 0.9082 - val_loss: 0.1274 - val_accuracy: 0.9824\n",
            "Epoch 46/1000\n",
            "26/26 [==============================] - 0s 5ms/step - loss: 0.2967 - accuracy: 0.9115 - val_loss: 0.1297 - val_accuracy: 0.9824\n",
            "Epoch 47/1000\n",
            "26/26 [==============================] - 0s 5ms/step - loss: 0.3019 - accuracy: 0.9091 - val_loss: 0.1241 - val_accuracy: 0.9824\n",
            "Epoch 48/1000\n",
            "26/26 [==============================] - 0s 4ms/step - loss: 0.2966 - accuracy: 0.9114 - val_loss: 0.1317 - val_accuracy: 0.9824\n",
            "Epoch 49/1000\n",
            "26/26 [==============================] - 0s 4ms/step - loss: 0.2964 - accuracy: 0.9111 - val_loss: 0.1420 - val_accuracy: 0.9824\n",
            "Epoch 50/1000\n",
            "26/26 [==============================] - 0s 4ms/step - loss: 0.2979 - accuracy: 0.9111 - val_loss: 0.1424 - val_accuracy: 0.9824\n",
            "Epoch 51/1000\n",
            "26/26 [==============================] - 0s 4ms/step - loss: 0.3051 - accuracy: 0.9077 - val_loss: 0.1250 - val_accuracy: 0.9824\n",
            "Epoch 52/1000\n",
            "26/26 [==============================] - 0s 4ms/step - loss: 0.3000 - accuracy: 0.9100 - val_loss: 0.1421 - val_accuracy: 0.9824\n",
            "Epoch 53/1000\n",
            "26/26 [==============================] - 0s 4ms/step - loss: 0.3077 - accuracy: 0.9064 - val_loss: 0.1248 - val_accuracy: 0.9824\n",
            "Epoch 54/1000\n",
            "26/26 [==============================] - 0s 5ms/step - loss: 0.2994 - accuracy: 0.9095 - val_loss: 0.1454 - val_accuracy: 0.9824\n",
            "Epoch 55/1000\n",
            "26/26 [==============================] - 0s 4ms/step - loss: 0.2935 - accuracy: 0.9120 - val_loss: 0.1077 - val_accuracy: 0.9824\n",
            "Epoch 56/1000\n",
            "26/26 [==============================] - 0s 5ms/step - loss: 0.2969 - accuracy: 0.9103 - val_loss: 0.1423 - val_accuracy: 0.9824\n",
            "Epoch 57/1000\n",
            "26/26 [==============================] - 0s 4ms/step - loss: 0.2893 - accuracy: 0.9122 - val_loss: 0.1289 - val_accuracy: 0.9824\n",
            "Epoch 58/1000\n",
            "26/26 [==============================] - 0s 4ms/step - loss: 0.2976 - accuracy: 0.9101 - val_loss: 0.1208 - val_accuracy: 0.9824\n",
            "Epoch 59/1000\n",
            "26/26 [==============================] - 0s 5ms/step - loss: 0.2907 - accuracy: 0.9119 - val_loss: 0.1367 - val_accuracy: 0.9824\n",
            "Epoch 60/1000\n",
            "26/26 [==============================] - 0s 4ms/step - loss: 0.3058 - accuracy: 0.9044 - val_loss: 0.1273 - val_accuracy: 0.9824\n",
            "Epoch 61/1000\n",
            "26/26 [==============================] - 0s 4ms/step - loss: 0.2989 - accuracy: 0.9100 - val_loss: 0.1350 - val_accuracy: 0.9824\n",
            "Epoch 62/1000\n",
            "26/26 [==============================] - 0s 5ms/step - loss: 0.2985 - accuracy: 0.9086 - val_loss: 0.1218 - val_accuracy: 0.9824\n",
            "Epoch 63/1000\n",
            "26/26 [==============================] - 0s 4ms/step - loss: 0.3099 - accuracy: 0.9077 - val_loss: 0.1488 - val_accuracy: 0.9824\n",
            "Epoch 64/1000\n",
            "26/26 [==============================] - 0s 4ms/step - loss: 0.3032 - accuracy: 0.9084 - val_loss: 0.1306 - val_accuracy: 0.9824\n",
            "Epoch 65/1000\n",
            "26/26 [==============================] - 0s 5ms/step - loss: 0.3104 - accuracy: 0.9049 - val_loss: 0.1375 - val_accuracy: 0.9824\n",
            "Epoch 66/1000\n",
            "26/26 [==============================] - 0s 4ms/step - loss: 0.3054 - accuracy: 0.9074 - val_loss: 0.1213 - val_accuracy: 0.9824\n",
            "Epoch 67/1000\n",
            "26/26 [==============================] - 0s 4ms/step - loss: 0.2946 - accuracy: 0.9119 - val_loss: 0.1501 - val_accuracy: 0.9824\n",
            "Epoch 68/1000\n",
            "26/26 [==============================] - 0s 4ms/step - loss: 0.3002 - accuracy: 0.9090 - val_loss: 0.1302 - val_accuracy: 0.9824\n",
            "Epoch 69/1000\n",
            "26/26 [==============================] - 0s 4ms/step - loss: 0.2879 - accuracy: 0.9138 - val_loss: 0.1272 - val_accuracy: 0.9824\n",
            "Epoch 70/1000\n",
            "26/26 [==============================] - 0s 4ms/step - loss: 0.2994 - accuracy: 0.9080 - val_loss: 0.1221 - val_accuracy: 0.9824\n",
            "Epoch 71/1000\n",
            "26/26 [==============================] - 0s 9ms/step - loss: 0.2917 - accuracy: 0.9117 - val_loss: 0.1309 - val_accuracy: 0.9824\n",
            "Epoch 72/1000\n",
            "26/26 [==============================] - 0s 5ms/step - loss: 0.2974 - accuracy: 0.9102 - val_loss: 0.1344 - val_accuracy: 0.9824\n",
            "Epoch 73/1000\n",
            "26/26 [==============================] - 0s 5ms/step - loss: 0.2853 - accuracy: 0.9140 - val_loss: 0.1272 - val_accuracy: 0.9824\n",
            "Epoch 74/1000\n",
            "26/26 [==============================] - 0s 4ms/step - loss: 0.2976 - accuracy: 0.9088 - val_loss: 0.1480 - val_accuracy: 0.9824\n",
            "Epoch 75/1000\n",
            "26/26 [==============================] - 0s 4ms/step - loss: 0.2963 - accuracy: 0.9101 - val_loss: 0.1216 - val_accuracy: 0.9824\n",
            "Epoch 76/1000\n",
            "26/26 [==============================] - 0s 5ms/step - loss: 0.2993 - accuracy: 0.9083 - val_loss: 0.1188 - val_accuracy: 0.9824\n",
            "Epoch 77/1000\n",
            "26/26 [==============================] - 0s 4ms/step - loss: 0.2940 - accuracy: 0.9100 - val_loss: 0.1347 - val_accuracy: 0.9824\n",
            "Epoch 78/1000\n",
            "26/26 [==============================] - 0s 4ms/step - loss: 0.2862 - accuracy: 0.9134 - val_loss: 0.1391 - val_accuracy: 0.9824\n",
            "Epoch 79/1000\n",
            "26/26 [==============================] - 0s 5ms/step - loss: 0.2970 - accuracy: 0.9090 - val_loss: 0.1428 - val_accuracy: 0.9824\n",
            "Epoch 80/1000\n",
            "26/26 [==============================] - 0s 4ms/step - loss: 0.2924 - accuracy: 0.9122 - val_loss: 0.1452 - val_accuracy: 0.9824\n",
            "Epoch 81/1000\n",
            "26/26 [==============================] - 0s 4ms/step - loss: 0.2887 - accuracy: 0.9130 - val_loss: 0.1332 - val_accuracy: 0.9824\n",
            "Epoch 82/1000\n",
            "26/26 [==============================] - 0s 4ms/step - loss: 0.2942 - accuracy: 0.9108 - val_loss: 0.1353 - val_accuracy: 0.9824\n",
            "Epoch 83/1000\n",
            "26/26 [==============================] - 0s 4ms/step - loss: 0.3001 - accuracy: 0.9073 - val_loss: 0.1392 - val_accuracy: 0.9824\n",
            "Epoch 84/1000\n",
            "26/26 [==============================] - 0s 5ms/step - loss: 0.2956 - accuracy: 0.9093 - val_loss: 0.1220 - val_accuracy: 0.9824\n",
            "Epoch 85/1000\n",
            "26/26 [==============================] - 0s 4ms/step - loss: 0.2878 - accuracy: 0.9130 - val_loss: 0.1324 - val_accuracy: 0.9824\n",
            "Epoch 86/1000\n",
            "26/26 [==============================] - 0s 4ms/step - loss: 0.2946 - accuracy: 0.9102 - val_loss: 0.1471 - val_accuracy: 0.9824\n",
            "Epoch 87/1000\n",
            "26/26 [==============================] - 0s 4ms/step - loss: 0.2891 - accuracy: 0.9132 - val_loss: 0.1276 - val_accuracy: 0.9824\n",
            "Epoch 88/1000\n",
            "26/26 [==============================] - 0s 5ms/step - loss: 0.2941 - accuracy: 0.9095 - val_loss: 0.1251 - val_accuracy: 0.9824\n",
            "Epoch 89/1000\n",
            "26/26 [==============================] - 0s 4ms/step - loss: 0.2938 - accuracy: 0.9100 - val_loss: 0.1288 - val_accuracy: 0.9824\n",
            "Epoch 90/1000\n",
            "26/26 [==============================] - 0s 4ms/step - loss: 0.2954 - accuracy: 0.9081 - val_loss: 0.1249 - val_accuracy: 0.9824\n",
            "Epoch 91/1000\n",
            "26/26 [==============================] - 0s 4ms/step - loss: 0.2856 - accuracy: 0.9139 - val_loss: 0.1429 - val_accuracy: 0.9824\n",
            "Epoch 92/1000\n",
            "26/26 [==============================] - 0s 5ms/step - loss: 0.2939 - accuracy: 0.9099 - val_loss: 0.1252 - val_accuracy: 0.9824\n",
            "Epoch 93/1000\n",
            "26/26 [==============================] - 0s 4ms/step - loss: 0.3043 - accuracy: 0.9045 - val_loss: 0.1462 - val_accuracy: 0.9824\n",
            "Epoch 94/1000\n",
            "26/26 [==============================] - 0s 4ms/step - loss: 0.2979 - accuracy: 0.9074 - val_loss: 0.1118 - val_accuracy: 0.9824\n",
            "Epoch 95/1000\n",
            "26/26 [==============================] - 0s 4ms/step - loss: 0.2915 - accuracy: 0.9095 - val_loss: 0.1357 - val_accuracy: 0.9824\n",
            "Epoch 96/1000\n",
            "26/26 [==============================] - 0s 4ms/step - loss: 0.2984 - accuracy: 0.9085 - val_loss: 0.1191 - val_accuracy: 0.9824\n",
            "Epoch 97/1000\n",
            "26/26 [==============================] - 0s 5ms/step - loss: 0.2853 - accuracy: 0.9133 - val_loss: 0.1497 - val_accuracy: 0.9824\n",
            "Epoch 98/1000\n",
            "26/26 [==============================] - 0s 4ms/step - loss: 0.3001 - accuracy: 0.9073 - val_loss: 0.1190 - val_accuracy: 0.9824\n",
            "Epoch 99/1000\n",
            "26/26 [==============================] - 0s 5ms/step - loss: 0.2829 - accuracy: 0.9133 - val_loss: 0.1299 - val_accuracy: 0.9824\n",
            "Epoch 100/1000\n",
            "26/26 [==============================] - 0s 4ms/step - loss: 0.2929 - accuracy: 0.9107 - val_loss: 0.1270 - val_accuracy: 0.9824\n",
            "Epoch 101/1000\n",
            "26/26 [==============================] - 0s 4ms/step - loss: 0.2975 - accuracy: 0.9081 - val_loss: 0.1152 - val_accuracy: 0.9824\n",
            "Epoch 102/1000\n",
            "26/26 [==============================] - 0s 5ms/step - loss: 0.2871 - accuracy: 0.9129 - val_loss: 0.1704 - val_accuracy: 0.9824\n",
            "Epoch 103/1000\n",
            "26/26 [==============================] - 0s 4ms/step - loss: 0.2902 - accuracy: 0.9104 - val_loss: 0.1111 - val_accuracy: 0.9824\n",
            "Epoch 104/1000\n",
            "26/26 [==============================] - 0s 4ms/step - loss: 0.3003 - accuracy: 0.9071 - val_loss: 0.1341 - val_accuracy: 0.9824\n",
            "Epoch 105/1000\n",
            "26/26 [==============================] - 0s 4ms/step - loss: 0.2924 - accuracy: 0.9107 - val_loss: 0.1180 - val_accuracy: 0.9824\n",
            "Epoch 106/1000\n",
            "26/26 [==============================] - 0s 5ms/step - loss: 0.2931 - accuracy: 0.9101 - val_loss: 0.1666 - val_accuracy: 0.9824\n",
            "Epoch 107/1000\n",
            "26/26 [==============================] - 0s 5ms/step - loss: 0.2966 - accuracy: 0.9111 - val_loss: 0.1232 - val_accuracy: 0.9824\n",
            "Epoch 108/1000\n",
            "26/26 [==============================] - 0s 5ms/step - loss: 0.2950 - accuracy: 0.9097 - val_loss: 0.1415 - val_accuracy: 0.9824\n",
            "Epoch 109/1000\n",
            "26/26 [==============================] - 0s 4ms/step - loss: 0.2986 - accuracy: 0.9070 - val_loss: 0.1260 - val_accuracy: 0.9824\n",
            "Epoch 110/1000\n",
            "26/26 [==============================] - 0s 4ms/step - loss: 0.2932 - accuracy: 0.9105 - val_loss: 0.1278 - val_accuracy: 0.9824\n",
            "Epoch 111/1000\n",
            "26/26 [==============================] - 0s 4ms/step - loss: 0.3035 - accuracy: 0.9070 - val_loss: 0.1367 - val_accuracy: 0.9824\n",
            "Epoch 112/1000\n",
            "26/26 [==============================] - 0s 4ms/step - loss: 0.3099 - accuracy: 0.9048 - val_loss: 0.1370 - val_accuracy: 0.9824\n",
            "Epoch 113/1000\n",
            "26/26 [==============================] - 0s 5ms/step - loss: 0.2945 - accuracy: 0.9098 - val_loss: 0.1481 - val_accuracy: 0.9824\n",
            "Epoch 114/1000\n",
            "26/26 [==============================] - 0s 4ms/step - loss: 0.3038 - accuracy: 0.9086 - val_loss: 0.1227 - val_accuracy: 0.9824\n",
            "Epoch 115/1000\n",
            "26/26 [==============================] - 0s 4ms/step - loss: 0.2997 - accuracy: 0.9073 - val_loss: 0.1440 - val_accuracy: 0.9824\n",
            "Epoch 116/1000\n",
            "26/26 [==============================] - 0s 5ms/step - loss: 0.2993 - accuracy: 0.9077 - val_loss: 0.1312 - val_accuracy: 0.9824\n",
            "Epoch 117/1000\n",
            "26/26 [==============================] - 0s 5ms/step - loss: 0.2943 - accuracy: 0.9094 - val_loss: 0.1266 - val_accuracy: 0.9824\n",
            "Epoch 118/1000\n",
            "26/26 [==============================] - 0s 4ms/step - loss: 0.2918 - accuracy: 0.9099 - val_loss: 0.1360 - val_accuracy: 0.9824\n",
            "Epoch 119/1000\n",
            "26/26 [==============================] - 0s 4ms/step - loss: 0.2852 - accuracy: 0.9136 - val_loss: 0.1531 - val_accuracy: 0.9824\n",
            "Epoch 120/1000\n",
            "26/26 [==============================] - 0s 4ms/step - loss: 0.2943 - accuracy: 0.9096 - val_loss: 0.1436 - val_accuracy: 0.9824\n",
            "Epoch 121/1000\n",
            "26/26 [==============================] - 0s 5ms/step - loss: 0.3011 - accuracy: 0.9065 - val_loss: 0.1377 - val_accuracy: 0.9824\n",
            "Epoch 122/1000\n",
            "26/26 [==============================] - 0s 5ms/step - loss: 0.2898 - accuracy: 0.9127 - val_loss: 0.1283 - val_accuracy: 0.9824\n",
            "Epoch 123/1000\n",
            "26/26 [==============================] - 0s 4ms/step - loss: 0.3015 - accuracy: 0.9060 - val_loss: 0.1396 - val_accuracy: 0.9824\n",
            "Epoch 124/1000\n",
            "26/26 [==============================] - 0s 4ms/step - loss: 0.2903 - accuracy: 0.9116 - val_loss: 0.1321 - val_accuracy: 0.9824\n",
            "Epoch 125/1000\n",
            "26/26 [==============================] - 0s 9ms/step - loss: 0.2885 - accuracy: 0.9123 - val_loss: 0.1284 - val_accuracy: 0.9824\n",
            "Epoch 126/1000\n",
            "26/26 [==============================] - 0s 4ms/step - loss: 0.2942 - accuracy: 0.9102 - val_loss: 0.1330 - val_accuracy: 0.9824\n",
            "Epoch 127/1000\n",
            "26/26 [==============================] - 0s 5ms/step - loss: 0.3006 - accuracy: 0.9085 - val_loss: 0.1295 - val_accuracy: 0.9824\n",
            "Epoch 128/1000\n",
            "26/26 [==============================] - 0s 5ms/step - loss: 0.2913 - accuracy: 0.9106 - val_loss: 0.1448 - val_accuracy: 0.9824\n",
            "Epoch 129/1000\n",
            "26/26 [==============================] - 0s 5ms/step - loss: 0.2868 - accuracy: 0.9144 - val_loss: 0.1227 - val_accuracy: 0.9824\n",
            "Epoch 130/1000\n",
            "26/26 [==============================] - 0s 4ms/step - loss: 0.2923 - accuracy: 0.9096 - val_loss: 0.1286 - val_accuracy: 0.9824\n",
            "Epoch 131/1000\n",
            "26/26 [==============================] - 0s 4ms/step - loss: 0.2948 - accuracy: 0.9094 - val_loss: 0.1488 - val_accuracy: 0.9824\n",
            "Epoch 132/1000\n",
            "26/26 [==============================] - 0s 4ms/step - loss: 0.2910 - accuracy: 0.9119 - val_loss: 0.1303 - val_accuracy: 0.9824\n",
            "Epoch 133/1000\n",
            "26/26 [==============================] - 0s 5ms/step - loss: 0.2869 - accuracy: 0.9130 - val_loss: 0.1404 - val_accuracy: 0.9824\n",
            "Epoch 134/1000\n",
            "26/26 [==============================] - 0s 4ms/step - loss: 0.2964 - accuracy: 0.9094 - val_loss: 0.1350 - val_accuracy: 0.9824\n",
            "Epoch 135/1000\n",
            "26/26 [==============================] - 0s 4ms/step - loss: 0.3014 - accuracy: 0.9077 - val_loss: 0.1440 - val_accuracy: 0.9824\n",
            "Epoch 136/1000\n",
            "26/26 [==============================] - 0s 5ms/step - loss: 0.2968 - accuracy: 0.9092 - val_loss: 0.1365 - val_accuracy: 0.9824\n",
            "Epoch 137/1000\n",
            "26/26 [==============================] - 0s 5ms/step - loss: 0.3016 - accuracy: 0.9067 - val_loss: 0.1601 - val_accuracy: 0.9824\n",
            "Epoch 138/1000\n",
            "26/26 [==============================] - 0s 4ms/step - loss: 0.2948 - accuracy: 0.9111 - val_loss: 0.1366 - val_accuracy: 0.9824\n",
            "Epoch 139/1000\n",
            "26/26 [==============================] - 0s 5ms/step - loss: 0.2996 - accuracy: 0.9080 - val_loss: 0.1388 - val_accuracy: 0.9824\n",
            "Epoch 140/1000\n",
            "26/26 [==============================] - 0s 5ms/step - loss: 0.2886 - accuracy: 0.9128 - val_loss: 0.1270 - val_accuracy: 0.9824\n",
            "Epoch 141/1000\n",
            "26/26 [==============================] - 0s 5ms/step - loss: 0.2883 - accuracy: 0.9124 - val_loss: 0.1317 - val_accuracy: 0.9824\n",
            "Epoch 142/1000\n",
            "26/26 [==============================] - 0s 5ms/step - loss: 0.2912 - accuracy: 0.9108 - val_loss: 0.1244 - val_accuracy: 0.9824\n",
            "Epoch 143/1000\n",
            "26/26 [==============================] - 0s 4ms/step - loss: 0.2947 - accuracy: 0.9104 - val_loss: 0.1647 - val_accuracy: 0.9824\n",
            "Epoch 144/1000\n",
            "26/26 [==============================] - 0s 5ms/step - loss: 0.3024 - accuracy: 0.9068 - val_loss: 0.1392 - val_accuracy: 0.9824\n",
            "Epoch 145/1000\n",
            "26/26 [==============================] - 0s 4ms/step - loss: 0.2886 - accuracy: 0.9125 - val_loss: 0.1414 - val_accuracy: 0.9824\n",
            "Epoch 146/1000\n",
            "26/26 [==============================] - 0s 4ms/step - loss: 0.2980 - accuracy: 0.9089 - val_loss: 0.1218 - val_accuracy: 0.9824\n",
            "Epoch 147/1000\n",
            "26/26 [==============================] - 0s 5ms/step - loss: 0.2968 - accuracy: 0.9099 - val_loss: 0.1398 - val_accuracy: 0.9824\n",
            "Epoch 148/1000\n",
            "26/26 [==============================] - 0s 4ms/step - loss: 0.2856 - accuracy: 0.9142 - val_loss: 0.1261 - val_accuracy: 0.9824\n",
            "Epoch 149/1000\n",
            "26/26 [==============================] - 0s 4ms/step - loss: 0.2922 - accuracy: 0.9111 - val_loss: 0.1209 - val_accuracy: 0.9824\n",
            "Epoch 150/1000\n",
            "26/26 [==============================] - 0s 5ms/step - loss: 0.2944 - accuracy: 0.9096 - val_loss: 0.1364 - val_accuracy: 0.9824\n",
            "Epoch 151/1000\n",
            "26/26 [==============================] - 0s 4ms/step - loss: 0.2997 - accuracy: 0.9075 - val_loss: 0.1265 - val_accuracy: 0.9824\n",
            "Epoch 152/1000\n",
            "26/26 [==============================] - 0s 5ms/step - loss: 0.2856 - accuracy: 0.9136 - val_loss: 0.1252 - val_accuracy: 0.9824\n",
            "Epoch 153/1000\n",
            "26/26 [==============================] - 0s 5ms/step - loss: 0.2954 - accuracy: 0.9102 - val_loss: 0.1281 - val_accuracy: 0.9824\n",
            "Epoch 154/1000\n",
            "26/26 [==============================] - 0s 4ms/step - loss: 0.2982 - accuracy: 0.9083 - val_loss: 0.1178 - val_accuracy: 0.9824\n",
            "Epoch 155/1000\n",
            "26/26 [==============================] - 0s 4ms/step - loss: 0.2973 - accuracy: 0.9081 - val_loss: 0.1340 - val_accuracy: 0.9824\n"
          ],
          "name": "stdout"
        }
      ]
    },
    {
      "cell_type": "code",
      "metadata": {
        "colab": {
          "base_uri": "https://localhost:8080/"
        },
        "id": "ruBU_21AEEpE",
        "outputId": "d61dace4-a15a-4e21-b8dc-6060012e8386"
      },
      "source": [
        "print(\"Train time: {} \".format(end-start)) #cek waktu run train"
      ],
      "execution_count": 19,
      "outputs": [
        {
          "output_type": "stream",
          "text": [
            "Train time: 23.157522 \n"
          ],
          "name": "stdout"
        }
      ]
    },
    {
      "cell_type": "code",
      "metadata": {
        "colab": {
          "base_uri": "https://localhost:8080/"
        },
        "id": "KmBZoRlnEIi0",
        "outputId": "ae12d21b-bb50-4c7a-8b02-3037c9c0c478"
      },
      "source": [
        "#cek akurasi antara X_test dan y_test\r\n",
        "model.evaluate(x=X_test,y=y_test)"
      ],
      "execution_count": 20,
      "outputs": [
        {
          "output_type": "stream",
          "text": [
            "175/175 [==============================] - 0s 922us/step - loss: 0.1077 - accuracy: 0.9824\n"
          ],
          "name": "stdout"
        },
        {
          "output_type": "execute_result",
          "data": {
            "text/plain": [
              "[0.10773052275180817, 0.9824183583259583]"
            ]
          },
          "metadata": {
            "tags": []
          },
          "execution_count": 20
        }
      ]
    },
    {
      "cell_type": "markdown",
      "metadata": {
        "id": "fQMJWcXjEP9O"
      },
      "source": [
        "SVM"
      ]
    },
    {
      "cell_type": "code",
      "metadata": {
        "id": "5cQBrq-AEJlN"
      },
      "source": [
        "#mencoba svm\r\n",
        "from sklearn import svm"
      ],
      "execution_count": 21,
      "outputs": []
    },
    {
      "cell_type": "code",
      "metadata": {
        "id": "coNVdskYEdNl"
      },
      "source": [
        "# SVM classifier\r\n",
        "clf = svm.SVC(kernel='linear') # Linear\r\n",
        "rbf_clf = svm.SVC(kernel='rbf', gamma='scale') # Gaussian/rbf\r\n",
        "poly_clf = svm.SVC(kernel='poly', gamma='scale') # Polynomial\r\n",
        "sig_clf = svm.SVC(kernel='sigmoid', gamma='scale') # Sigmoid"
      ],
      "execution_count": 22,
      "outputs": []
    },
    {
      "cell_type": "code",
      "metadata": {
        "colab": {
          "base_uri": "https://localhost:8080/"
        },
        "id": "XUti3CcTEgdd",
        "outputId": "8eb432f7-45a7-4d3d-f965-b628f78cd3c4"
      },
      "source": [
        "# Train model menggunakan data\r\n",
        "clf.fit(X_train, y_train.values.ravel())\r\n",
        "rbf_clf.fit(X_train, y_train.values.ravel())\r\n",
        "poly_clf.fit(X_train, y_train.values.ravel())\r\n",
        "sig_clf.fit(X_train, y_train.values.ravel())"
      ],
      "execution_count": 23,
      "outputs": [
        {
          "output_type": "execute_result",
          "data": {
            "text/plain": [
              "SVC(C=1.0, break_ties=False, cache_size=200, class_weight=None, coef0=0.0,\n",
              "    decision_function_shape='ovr', degree=3, gamma='scale', kernel='sigmoid',\n",
              "    max_iter=-1, probability=False, random_state=None, shrinking=True,\n",
              "    tol=0.001, verbose=False)"
            ]
          },
          "metadata": {
            "tags": []
          },
          "execution_count": 23
        }
      ]
    },
    {
      "cell_type": "code",
      "metadata": {
        "id": "4kibj1PLJivl"
      },
      "source": [
        "# Membuat prediksi\r\n",
        "lin_y_pred = clf.predict(X_test)\r\n",
        "rbf_y_pred = rbf_clf.predict(X_test)\r\n",
        "poly_y_pred = poly_clf.predict(X_test)\r\n",
        "sig_y_pred = sig_clf.predict(X_test)"
      ],
      "execution_count": 24,
      "outputs": []
    },
    {
      "cell_type": "code",
      "metadata": {
        "id": "yFNQZUyAJkLE"
      },
      "source": [
        "from sklearn import metrics #Import scikit-learn metrics modul untuk perhitungan pada akurasi"
      ],
      "execution_count": 25,
      "outputs": []
    },
    {
      "cell_type": "code",
      "metadata": {
        "colab": {
          "base_uri": "https://localhost:8080/"
        },
        "id": "61w7x2PEJq-g",
        "outputId": "f0945853-ebda-40c7-bb10-0d4827519664"
      },
      "source": [
        "# Menghitung akurasi\r\n",
        "print(\"Accuracy linear:\",metrics.accuracy_score(y_test, lin_y_pred))\r\n",
        "print(\"Accuracy rbf:\",metrics.accuracy_score(y_test, rbf_y_pred))\r\n",
        "print(\"Accuracy polynomial:\",metrics.accuracy_score(y_test, poly_y_pred))\r\n",
        "print(\"Accuracy sigmoid:\",metrics.accuracy_score(y_test, sig_y_pred))"
      ],
      "execution_count": 26,
      "outputs": [
        {
          "output_type": "stream",
          "text": [
            "Accuracy linear: 0.9827771797631862\n",
            "Accuracy rbf: 0.9824183710082526\n",
            "Accuracy polynomial: 0.9824183710082526\n",
            "Accuracy sigmoid: 0.9022246142805884\n"
          ],
          "name": "stdout"
        }
      ]
    }
  ]
}